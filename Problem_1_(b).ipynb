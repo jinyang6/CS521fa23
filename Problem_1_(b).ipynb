{
  "cells": [
    {
      "cell_type": "code",
      "execution_count": 1,
      "metadata": {
        "colab": {
          "base_uri": "https://localhost:8080/"
        },
        "id": "DCzc9Xil9q7P",
        "outputId": "2c059f38-7902-4f8e-b620-6aab1e7de3d5"
      },
      "outputs": [
        {
          "name": "stdout",
          "output_type": "stream",
          "text": [
            "Requirement already satisfied: z3-solver in d:\\conda_jinyangworkenv\\lib\\site-packages (4.12.2.0)\n"
          ]
        },
        {
          "name": "stderr",
          "output_type": "stream",
          "text": [
            "WARNING: Ignoring invalid distribution -ensorflow (d:\\conda_jinyangworkenv\\lib\\site-packages)\n",
            "WARNING: Ignoring invalid distribution -ensorflow (d:\\conda_jinyangworkenv\\lib\\site-packages)\n",
            "WARNING: There was an error checking the latest version of pip.\n"
          ]
        }
      ],
      "source": [
        "!pip install z3-solver"
      ]
    },
    {
      "cell_type": "code",
      "execution_count": 5,
      "metadata": {
        "colab": {
          "base_uri": "https://localhost:8080/"
        },
        "id": "XCHfK9dvro7J",
        "outputId": "c2cd4f5a-2836-49a0-89c4-1f4ba56619bc"
      },
      "outputs": [
        {
          "name": "stdout",
          "output_type": "stream",
          "text": [
            "start_predicates: [i == 0, i < 10, i <= 10, i > 10, x != y, And(z != y, x != z)]\n",
            "end_predicates: [i == 0, i < 10, i <= 10, x != y, And(z != y, x != z)]\n",
            "start_predicates: [i == 0, i < 10, i <= 10, x != y, And(z != y, x != z)]\n",
            "end_predicates: [i < 10, i <= 10, x != y, And(z != y, x != z)]\n",
            "start_predicates: [i < 10, i <= 10, x != y, And(z != y, x != z)]\n",
            "end_predicates: [i <= 10, x != y, And(z != y, x != z)]\n",
            "start_predicates: [i <= 10, x != y, And(z != y, x != z)]\n",
            "Final invariant: [i <= 10, x != y, And(z != y, x != z)]\n"
          ]
        }
      ],
      "source": [
        "from z3 import *\n",
        "\n",
        "\n",
        "def always_holds(condition):\n",
        "    s = Solver()\n",
        "    s.add(Not(condition))\n",
        "    return s.check() == unsat\n",
        "\n",
        "\n",
        "# Verify invariance\n",
        "def verify(predicates, init_state, transition):\n",
        "    refuted = []\n",
        "    for k in range(len(predicates)):\n",
        "        predicate = predicates[k]\n",
        "        \n",
        "        # Check that the invariant holds at the beginning of the loop        \n",
        "        s = Solver()\n",
        "        s.add(init_state, predicate)\n",
        "        if s.check() == unsat:\n",
        "            refuted.append(predicate)\n",
        "            continue\n",
        "\n",
        "\n",
        "\n",
        "        # Check the predicate hold inductively \n",
        "        context = True\n",
        "        for j in range(len(predicates)):\n",
        "            context = And(context, predicates[j])\n",
        "        inductive_predicate = substitute(predicate, [(x, x_next), (y, y_next), (z, z_next), (i, i_next)])\n",
        "        inductive_check = ForAll([x, y, z, i], Implies(And(context, transition), inductive_predicate))\n",
        "        # print(inductive_check, always_holds(inductive_check))\n",
        "        if not always_holds(inductive_check):\n",
        "            refuted.append(predicate)\n",
        "    return refuted\n",
        "\n",
        "\n",
        "\n",
        "def houdini_algorithm(predicates, init_state, transition):\n",
        "    current_predicates = predicates.copy()\n",
        "    while True:\n",
        "        print(\"start_predicates:\", current_predicates)\n",
        "        refuted = verify(current_predicates, init_state, transition)\n",
        "        if len(refuted) == 0:\n",
        "            break\n",
        "        current_predicates = [p for p in current_predicates if p not in refuted]\n",
        "        print(\"end_predicates:\", current_predicates)\n",
        "    return current_predicates\n",
        "\n",
        "\n",
        "x, y, z, tmp, i = Ints('x y z tmp i')\n",
        "x_next, y_next, z_next, i_next = Ints('x_next y_next z_next i_next')\n",
        "\n",
        "# init_state \n",
        "init_state = And(x == 1, y == 2, z == 3, i == 0)\n",
        "\n",
        "# body of loop\n",
        "transition = And(i < 10, tmp == x, x_next == y, y_next == z, z_next == tmp, i_next == i + 1)\n",
        "\n",
        "\n",
        "predicates = [i == 0, i < 10, i <= 10, i > 10, x != y, And((z != y), (x != z))]\n",
        "\n",
        "\n",
        "final_invariant = houdini_algorithm(predicates, init_state, transition)\n",
        "print(\"Final invariant:\", final_invariant)\n"
      ]
    }
  ],
  "metadata": {
    "colab": {
      "provenance": []
    },
    "kernelspec": {
      "display_name": "Python 3",
      "name": "python3"
    },
    "language_info": {
      "codemirror_mode": {
        "name": "ipython",
        "version": 3
      },
      "file_extension": ".py",
      "mimetype": "text/x-python",
      "name": "python",
      "nbconvert_exporter": "python",
      "pygments_lexer": "ipython3",
      "version": "3.9.0"
    }
  },
  "nbformat": 4,
  "nbformat_minor": 0
}
